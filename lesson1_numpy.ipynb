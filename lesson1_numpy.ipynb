{
  "nbformat": 4,
  "nbformat_minor": 0,
  "metadata": {
    "colab": {
      "name": "lesson1_numpy.ipynb",
      "version": "0.3.2",
      "provenance": [],
      "collapsed_sections": [],
      "include_colab_link": true
    },
    "kernelspec": {
      "name": "python3",
      "display_name": "Python 3"
    }
  },
  "cells": [
    {
      "cell_type": "markdown",
      "metadata": {
        "id": "view-in-github",
        "colab_type": "text"
      },
      "source": [
        "<a href=\"https://colab.research.google.com/github/rsumana/UserProfiling/blob/master/lesson1_numpy.ipynb\" target=\"_parent\"><img src=\"https://colab.research.google.com/assets/colab-badge.svg\" alt=\"Open In Colab\"/></a>"
      ]
    },
    {
      "cell_type": "markdown",
      "metadata": {
        "id": "W5A_oxJ748uE",
        "colab_type": "text"
      },
      "source": [
        "# NumPy\n",
        " \n",
        " NumPy(Numerical Python) is a linear alegbra library in Python. Why learning NumPy is important:\n",
        " \n",
        "\n",
        "*    NumPy is very useful for performing mathematical and logical operations on Arrays. \n",
        "\n",
        "*    NumPy provides an abundance of useful features for operations on n-arrays and matrices in Python. \n",
        "\n",
        "*   NumPy is a very important library on which almost every data science or machine learning Python packages such as SciPy(Scientific Python), Mat-plotlib(plotting library), Scikit-learn, etc depends on to a reasonable extent.\n"
      ]
    },
    {
      "cell_type": "markdown",
      "metadata": {
        "id": "PCCcwgr4cqx7",
        "colab_type": "text"
      },
      "source": [
        "**How to create 1D  (Rank 1) numpy array**"
      ]
    },
    {
      "cell_type": "code",
      "metadata": {
        "id": "coj6OTuolnhL",
        "colab_type": "code",
        "colab": {
          "base_uri": "https://localhost:8080/",
          "height": 34
        },
        "outputId": "b5c16a74-ef2f-4524-89d7-0327713f2a41"
      },
      "source": [
        "#import numpy as np to save us from having to type numpy every single time\n",
        "import numpy as np\n",
        "\n",
        "print (\"NumPy version - \" + np.version.version)"
      ],
      "execution_count": 3,
      "outputs": [
        {
          "output_type": "stream",
          "text": [
            "NumPy version - 1.16.4\n"
          ],
          "name": "stdout"
        }
      ]
    },
    {
      "cell_type": "code",
      "metadata": {
        "id": "WG6IXUU1mRh3",
        "colab_type": "code",
        "outputId": "7feb7e29-d00a-43d9-fe89-5918ca511a22",
        "colab": {
          "base_uri": "https://localhost:8080/",
          "height": 34
        }
      },
      "source": [
        "#create 1D numpy array from a list\n",
        "array_1d = np.array([1, 2, 3, 4, 5])\n",
        "\n",
        "print (array_1d)"
      ],
      "execution_count": 25,
      "outputs": [
        {
          "output_type": "stream",
          "text": [
            "[1 2 3 4 5]\n"
          ],
          "name": "stdout"
        }
      ]
    },
    {
      "cell_type": "code",
      "metadata": {
        "id": "e0KAKjKvYssT",
        "colab_type": "code",
        "outputId": "ae0fd240-3039-4524-991a-04c9b213cb24",
        "colab": {
          "base_uri": "https://localhost:8080/",
          "height": 34
        }
      },
      "source": [
        "#create 1D numpy array from a list variable\n",
        "list_1 = [11, 22, 33, 44, 55]\n",
        "array_l1 = np.array(list_1)\n",
        "\n",
        "print(array_l1)"
      ],
      "execution_count": 14,
      "outputs": [
        {
          "output_type": "stream",
          "text": [
            "[11 22 33 44 55]\n"
          ],
          "name": "stdout"
        }
      ]
    },
    {
      "cell_type": "code",
      "metadata": {
        "id": "7rtys8vBYtzR",
        "colab_type": "code",
        "outputId": "44f674b3-bd1a-4ea0-8153-7518b80f229c",
        "colab": {
          "base_uri": "https://localhost:8080/",
          "height": 51
        }
      },
      "source": [
        "#print the type of an numpy array we created\n",
        "print (\"Array type = \" + str(type(array_1d)))\n",
        "\n",
        "#print the data type \n",
        "print (\"Data type = \" + str(array_1d.dtype))"
      ],
      "execution_count": 17,
      "outputs": [
        {
          "output_type": "stream",
          "text": [
            "Array type = <class 'numpy.ndarray'>\n",
            "Data type = int64\n"
          ],
          "name": "stdout"
        }
      ]
    },
    {
      "cell_type": "code",
      "metadata": {
        "id": "ZS_g0ZfCY_Uu",
        "colab_type": "code",
        "outputId": "1777e7c4-19b1-4ae2-becd-d5c5e9c62f8c",
        "colab": {
          "base_uri": "https://localhost:8080/",
          "height": 34
        }
      },
      "source": [
        "#check the shape of the ndarray we created, it should have only 1 dimension\n",
        "print(array_1d.shape)"
      ],
      "execution_count": 19,
      "outputs": [
        {
          "output_type": "stream",
          "text": [
            "(5,)\n"
          ],
          "name": "stdout"
        }
      ]
    },
    {
      "cell_type": "markdown",
      "metadata": {
        "id": "HVjxGaocbH1l",
        "colab_type": "text"
      },
      "source": [
        "**How to create 2D (Rank 2) numpy arrays**\n",
        "\n",
        "2 dimensional arrays are great for representing matrices wich are often used in data science"
      ]
    },
    {
      "cell_type": "code",
      "metadata": {
        "id": "6TV4q7uBab2a",
        "colab_type": "code",
        "outputId": "ebd67da5-cc49-4477-fdbb-ed15d76db332",
        "colab": {
          "base_uri": "https://localhost:8080/",
          "height": 68
        }
      },
      "source": [
        "#create 2D numpy array\n",
        "array_2 = np.array([[1, 2, 3, 4, 5], [11, 22, 33, 44, 55]])\n",
        "\n",
        "#print the array and the shape, shape should be 2 rows and 5 columns\n",
        "print (array_2)\n",
        "array_2.shape"
      ],
      "execution_count": 27,
      "outputs": [
        {
          "output_type": "stream",
          "text": [
            "[[ 1  2  3  4  5]\n",
            " [11 22 33 44 55]]\n"
          ],
          "name": "stdout"
        },
        {
          "output_type": "execute_result",
          "data": {
            "text/plain": [
              "(2, 5)"
            ]
          },
          "metadata": {
            "tags": []
          },
          "execution_count": 27
        }
      ]
    },
    {
      "cell_type": "code",
      "metadata": {
        "id": "Q2N5Xzehk931",
        "colab_type": "code",
        "colab": {
          "base_uri": "https://localhost:8080/",
          "height": 51
        },
        "outputId": "aabda3e5-4d0c-4947-fd81-04fade3473b8"
      },
      "source": [
        "#what happens if the lists passed to np.array has different lengths?\n",
        "\n",
        "#create 2D numpy array\n",
        "array_difflengths = np.array([[1, 2, 3, 4, 5], [11, 22, 33, 44]])\n",
        "\n",
        "#print the array and the shape, shape should be 2 rows\n",
        "print (array_difflengths)\n",
        "array_difflengths.shape"
      ],
      "execution_count": 29,
      "outputs": [
        {
          "output_type": "stream",
          "text": [
            "[list([1, 2, 3, 4, 5]) list([11, 22, 33, 44])]\n"
          ],
          "name": "stdout"
        },
        {
          "output_type": "execute_result",
          "data": {
            "text/plain": [
              "(2,)"
            ]
          },
          "metadata": {
            "tags": []
          },
          "execution_count": 29
        }
      ]
    },
    {
      "cell_type": "markdown",
      "metadata": {
        "id": "c_gNFE7dsJlS",
        "colab_type": "text"
      },
      "source": [
        "**Create numpy arrays with different pre-filled values using numpy built in methods**\n",
        "\n",
        "More documentation on Random Sampling at https://docs.scipy.org/doc/numpy-1.16.0/reference/routines.random.html\n"
      ]
    },
    {
      "cell_type": "code",
      "metadata": {
        "id": "TE-DX3XUd-zI",
        "colab_type": "code",
        "outputId": "db7f3fd9-02dc-445b-81b1-c3f69f7c6be2",
        "colab": {
          "base_uri": "https://localhost:8080/",
          "height": 68
        }
      },
      "source": [
        "#create 3x3 array filled with zeros\n",
        "array_0 = np.zeros((3, 3))\n",
        "\n",
        "print (array_0)"
      ],
      "execution_count": 33,
      "outputs": [
        {
          "output_type": "stream",
          "text": [
            "[[0. 0. 0.]\n",
            " [0. 0. 0.]\n",
            " [0. 0. 0.]]\n"
          ],
          "name": "stdout"
        }
      ]
    },
    {
      "cell_type": "code",
      "metadata": {
        "id": "ZBlF5CeWnKq2",
        "colab_type": "code",
        "outputId": "1a006c5e-9fcf-4278-d41f-d046d6cc8a44",
        "colab": {
          "base_uri": "https://localhost:8080/",
          "height": 51
        }
      },
      "source": [
        "#create 2x2 array filled with 8.0\n",
        "array_8 = np.full((2, 2), 8.0)\n",
        "\n",
        "print (array_8)"
      ],
      "execution_count": 34,
      "outputs": [
        {
          "output_type": "stream",
          "text": [
            "[[8. 8.]\n",
            " [8. 8.]]\n"
          ],
          "name": "stdout"
        }
      ]
    },
    {
      "cell_type": "code",
      "metadata": {
        "id": "EHk7gHnPnX_P",
        "colab_type": "code",
        "outputId": "a0d0900c-9b02-4a90-f495-091f109d06f3",
        "colab": {
          "base_uri": "https://localhost:8080/",
          "height": 51
        }
      },
      "source": [
        "#create 2x3 array of ones \n",
        "array_1 = np.ones((2, 3))\n",
        "\n",
        "print (array_1)"
      ],
      "execution_count": 35,
      "outputs": [
        {
          "output_type": "stream",
          "text": [
            "[[1. 1. 1.]\n",
            " [1. 1. 1.]]\n"
          ],
          "name": "stdout"
        }
      ]
    },
    {
      "cell_type": "code",
      "metadata": {
        "id": "gXCi3VW7vJ1g",
        "colab_type": "code",
        "outputId": "6142cd6e-7be4-4dcf-d4f3-0ce6c657731b",
        "colab": {
          "base_uri": "https://localhost:8080/",
          "height": 85
        }
      },
      "source": [
        "#create 4x4 matrix with diagonal 1s and the others 0 (identity matrix)\n",
        "array_d = np.eye(4, 4)\n",
        "\n",
        "print (array_d)"
      ],
      "execution_count": 36,
      "outputs": [
        {
          "output_type": "stream",
          "text": [
            "[[1. 0. 0. 0.]\n",
            " [0. 1. 0. 0.]\n",
            " [0. 0. 1. 0.]\n",
            " [0. 0. 0. 1.]]\n"
          ],
          "name": "stdout"
        }
      ]
    },
    {
      "cell_type": "code",
      "metadata": {
        "id": "PW0HWuE4we3s",
        "colab_type": "code",
        "outputId": "eb812cd8-9be8-4ba2-c17c-6cfc9949bf2c",
        "colab": {
          "base_uri": "https://localhost:8080/",
          "height": 68
        }
      },
      "source": [
        "#create an array of random floats between 0 and 1 of (3, 4) shape\n",
        "array_r = np.random.random((3, 4))\n",
        "\n",
        "print (array_r)"
      ],
      "execution_count": 37,
      "outputs": [
        {
          "output_type": "stream",
          "text": [
            "[[0.01043611 0.30495656 0.93509598 0.4348673 ]\n",
            " [0.49063913 0.56403399 0.31410731 0.62669247]\n",
            " [0.25507215 0.99611864 0.59528836 0.5791938 ]]\n"
          ],
          "name": "stdout"
        }
      ]
    },
    {
      "cell_type": "code",
      "metadata": {
        "id": "bsXvzNtcw0gV",
        "colab_type": "code",
        "outputId": "d4078257-ad9b-4ad9-c8db-7b6f213b0220",
        "colab": {
          "base_uri": "https://localhost:8080/",
          "height": 102
        }
      },
      "source": [
        "#create an array filled with random integers from 0 to 10\n",
        "array_i = np.random.randint(low = 1, high = 10, size = (2, 2))\n",
        "print (array_i, '\\n')\n",
        "\n",
        "#the above is the same as this\n",
        "array_i1 = np.random.randint(0, 10, (2, 2))\n",
        "print (array_i1)"
      ],
      "execution_count": 38,
      "outputs": [
        {
          "output_type": "stream",
          "text": [
            "[[6 4]\n",
            " [6 4]] \n",
            "\n",
            "[[7 6]\n",
            " [7 0]]\n"
          ],
          "name": "stdout"
        }
      ]
    },
    {
      "cell_type": "markdown",
      "metadata": {
        "id": "nhBPaAhy230w",
        "colab_type": "text"
      },
      "source": [
        "**Indexing, Slice indexing**\n",
        "\n",
        "We can use slice indexing to pull out sub-regions of ndarrays\n",
        "\n",
        "More documentation can be found at https://docs.scipy.org/doc/numpy/reference/arrays.indexing.html\n"
      ]
    },
    {
      "cell_type": "code",
      "metadata": {
        "id": "w_mA5e-_zx1S",
        "colab_type": "code",
        "outputId": "48462d11-ef85-4605-95f8-900dbce31154",
        "colab": {
          "base_uri": "https://localhost:8080/",
          "height": 34
        }
      },
      "source": [
        "#create 1D array\n",
        "array_1d = np.array([1, 2, 3, 4, 5, 6, 7])\n",
        "print (array_1d)"
      ],
      "execution_count": 46,
      "outputs": [
        {
          "output_type": "stream",
          "text": [
            "[1 2 3 4 5 6 7]\n"
          ],
          "name": "stdout"
        }
      ]
    },
    {
      "cell_type": "code",
      "metadata": {
        "id": "GkeEqS-m74mc",
        "colab_type": "code",
        "outputId": "a093317e-62e7-46dc-ea70-5c4783e76add",
        "colab": {
          "base_uri": "https://localhost:8080/",
          "height": 51
        }
      },
      "source": [
        "#because we have 1D array, we need only one index to access element at any position\n",
        "#call the value at index 2\n",
        "print ('element at index 2: ', array_1d[2])\n",
        "\n",
        "#ndarrays are mutable, here we change an element at index 2 \n",
        "array_1d[2] = 10\n",
        "print ('element at index 2 after change: ', array_1d[2])\n"
      ],
      "execution_count": 47,
      "outputs": [
        {
          "output_type": "stream",
          "text": [
            "element at index 2:  3\n",
            "element at index 2 after change:  10\n"
          ],
          "name": "stdout"
        }
      ]
    },
    {
      "cell_type": "code",
      "metadata": {
        "id": "DFuHMPs_8n-_",
        "colab_type": "code",
        "outputId": "adfb631d-0ee4-424d-da2d-4327e3a3e9ac",
        "colab": {
          "base_uri": "https://localhost:8080/",
          "height": 51
        }
      },
      "source": [
        "#get the values in the range\n",
        "print ('elements in the range: ', array_1d[1:3]) #a:b - including a, until (and excluding) b\n",
        "\n",
        "#we can change values in the range as well\n",
        "array_1d[1:3] = 10\n",
        "print ('elements in the range after change: ', array_1d[1:3])"
      ],
      "execution_count": 48,
      "outputs": [
        {
          "output_type": "stream",
          "text": [
            "elements in the range:  [ 2 10]\n",
            "elements in the range after change:  [10 10]\n"
          ],
          "name": "stdout"
        }
      ]
    },
    {
      "cell_type": "code",
      "metadata": {
        "id": "Lh9diCus99N6",
        "colab_type": "code",
        "outputId": "3d3ca11b-4e22-4c31-f510-99939304d322",
        "colab": {
          "base_uri": "https://localhost:8080/",
          "height": 136
        }
      },
      "source": [
        "#for 2D arrays we will need two indexing first one for the row and second one for the column\n",
        "#create 2D array\n",
        "array_2d = np.array([[11, 12, 13, 14, 15, 16, 17], [21, 22, 23, 24, 25, 26, 27], [31, 32, 33, 34, 35, 36, 37]])\n",
        "print ('original array: \\n', array_2d, '\\n')\n",
        "\n",
        "#slicing: generates an array of the same rank\n",
        "slice_row = array_2d[1:2, :] #a:b - including a, until (and excluding) b\n",
        "print ('sliced array on [1:2, :]: \\n', slice_row)"
      ],
      "execution_count": 53,
      "outputs": [
        {
          "output_type": "stream",
          "text": [
            "original array: \n",
            " [[11 12 13 14 15 16 17]\n",
            " [21 22 23 24 25 26 27]\n",
            " [31 32 33 34 35 36 37]] \n",
            "\n",
            "sliced array on [1:2, :]: \n",
            " [[21 22 23 24 25 26 27]]\n"
          ],
          "name": "stdout"
        }
      ]
    },
    {
      "cell_type": "code",
      "metadata": {
        "id": "oEsD7-9ZE-SW",
        "colab_type": "code",
        "outputId": "7d9567cc-f13a-464b-8134-bf538892b666",
        "colab": {
          "base_uri": "https://localhost:8080/",
          "height": 136
        }
      },
      "source": [
        "#if we change the sliced array it will changed the original array too\n",
        "slice_row[:, :] = 10\n",
        "\n",
        "print ('sliced array: \\n', slice_row, '\\n')\n",
        "print ('original array: \\n', array_2d)\n"
      ],
      "execution_count": 54,
      "outputs": [
        {
          "output_type": "stream",
          "text": [
            "sliced array: \n",
            " [[10 10 10 10 10 10 10]] \n",
            "\n",
            "original array: \n",
            " [[11 12 13 14 15 16 17]\n",
            " [10 10 10 10 10 10 10]\n",
            " [31 32 33 34 35 36 37]]\n"
          ],
          "name": "stdout"
        }
      ]
    },
    {
      "cell_type": "code",
      "metadata": {
        "id": "xGzyxJfhGIzV",
        "colab_type": "code",
        "outputId": "6fba3237-9668-442e-87f8-5b407bd1a736",
        "colab": {
          "base_uri": "https://localhost:8080/",
          "height": 68
        }
      },
      "source": [
        "#we can do the slicing for columns as well\n",
        "slice_col = array_2d[:, 1:5]\n",
        "print (slice_col)"
      ],
      "execution_count": 55,
      "outputs": [
        {
          "output_type": "stream",
          "text": [
            "[[12 13 14 15]\n",
            " [10 10 10 10]\n",
            " [32 33 34 35]]\n"
          ],
          "name": "stdout"
        }
      ]
    },
    {
      "cell_type": "code",
      "metadata": {
        "id": "LC773zCHJV2b",
        "colab_type": "code",
        "outputId": "01c7711c-56a4-44a0-fb39-8083e40158d4",
        "colab": {
          "base_uri": "https://localhost:8080/",
          "height": 34
        }
      },
      "source": [
        "#we can use filters to select just those elements which meet certain criteria \n",
        "#select the elements that are greater than 10\n",
        "slice_col[slice_col>10]"
      ],
      "execution_count": 56,
      "outputs": [
        {
          "output_type": "execute_result",
          "data": {
            "text/plain": [
              "array([12, 13, 14, 15, 32, 33, 34, 35])"
            ]
          },
          "metadata": {
            "tags": []
          },
          "execution_count": 56
        }
      ]
    },
    {
      "cell_type": "code",
      "metadata": {
        "id": "4Jv8NE7aOnIk",
        "colab_type": "code",
        "outputId": "364a09a3-1703-4fc8-c864-80f96e807729",
        "colab": {
          "base_uri": "https://localhost:8080/",
          "height": 68
        }
      },
      "source": [
        "#use similar logical filter to change elements in the array\n",
        "#add 1 to all the odd values\n",
        "slice_col[slice_col % 2 == 1] += 1\n",
        "slice_col"
      ],
      "execution_count": 57,
      "outputs": [
        {
          "output_type": "execute_result",
          "data": {
            "text/plain": [
              "array([[12, 14, 14, 16],\n",
              "       [10, 10, 10, 10],\n",
              "       [32, 34, 34, 36]])"
            ]
          },
          "metadata": {
            "tags": []
          },
          "execution_count": 57
        }
      ]
    },
    {
      "cell_type": "markdown",
      "metadata": {
        "id": "kDchGyyFZpWy",
        "colab_type": "text"
      },
      "source": [
        "**Arithmetic array operations**\n",
        "\n",
        "More documentation at https://docs.scipy.org/doc/numpy-1.13.0/reference/routines.math.html"
      ]
    },
    {
      "cell_type": "code",
      "metadata": {
        "id": "9JQsVw46T6xT",
        "colab_type": "code",
        "outputId": "90b2a3ad-4390-4ed3-b662-3ca4d97dd8d5",
        "colab": {
          "base_uri": "https://localhost:8080/",
          "height": 272
        }
      },
      "source": [
        "#addition can be done with the plus sign or 'add' numpy function\n",
        "arr_x = np.array([[10, 20, 30], [40, 50, 60]])\n",
        "arr_y = np.array([[11, 21, 31], [41, 51, 61]])\n",
        "\n",
        "print(\"Array X\")\n",
        "print(arr_x, '\\n')\n",
        "\n",
        "print(\"Array Y\")\n",
        "print(arr_y, '\\n')\n",
        "\n",
        "print(\"Direct Addition\")\n",
        "print (arr_x + arr_y, '\\n')\n",
        "\n",
        "print(\"Numpy Addition\")\n",
        "print (np.add(arr_x, arr_y))"
      ],
      "execution_count": 62,
      "outputs": [
        {
          "output_type": "stream",
          "text": [
            "Array X\n",
            "[[10 20 30]\n",
            " [40 50 60]] \n",
            "\n",
            "Array Y\n",
            "[[11 21 31]\n",
            " [41 51 61]] \n",
            "\n",
            "Direct Addition\n",
            "[[ 21  41  61]\n",
            " [ 81 101 121]] \n",
            "\n",
            "Numpy Addition\n",
            "[[ 21  41  61]\n",
            " [ 81 101 121]]\n"
          ],
          "name": "stdout"
        }
      ]
    },
    {
      "cell_type": "code",
      "metadata": {
        "id": "q628w2tbbXeY",
        "colab_type": "code",
        "outputId": "83f952c9-6dc2-43a6-92e5-1be08073ac70",
        "colab": {
          "base_uri": "https://localhost:8080/",
          "height": 136
        }
      },
      "source": [
        "#the same is with the subtraction \n",
        "print(\"Direct Subtraction\")\n",
        "print (arr_y - arr_x, '\\n')\n",
        "\n",
        "print(\"Numpy Subtraction\")\n",
        "print (np.subtract(arr_y, arr_x))"
      ],
      "execution_count": 63,
      "outputs": [
        {
          "output_type": "stream",
          "text": [
            "Direct Subtraction\n",
            "[[1 1 1]\n",
            " [1 1 1]] \n",
            "\n",
            "Numpy Subtraction\n",
            "[[1 1 1]\n",
            " [1 1 1]]\n"
          ],
          "name": "stdout"
        }
      ]
    },
    {
      "cell_type": "code",
      "metadata": {
        "id": "OYh9Vwh_b0lu",
        "colab_type": "code",
        "outputId": "a7b8d7d4-2b48-423f-e780-8e1e8ccc2da1",
        "colab": {
          "base_uri": "https://localhost:8080/",
          "height": 136
        }
      },
      "source": [
        "#multiplication\n",
        "print(\"Direct Multiplication\")\n",
        "print (arr_x * arr_y, '\\n')\n",
        "\n",
        "print(\"Numpy Multiplication\")\n",
        "print (np.multiply(arr_x, arr_y))"
      ],
      "execution_count": 64,
      "outputs": [
        {
          "output_type": "stream",
          "text": [
            "Direct Multiplication\n",
            "[[ 110  420  930]\n",
            " [1640 2550 3660]] \n",
            "\n",
            "Numpy Multiplication\n",
            "[[ 110  420  930]\n",
            " [1640 2550 3660]]\n"
          ],
          "name": "stdout"
        }
      ]
    },
    {
      "cell_type": "code",
      "metadata": {
        "id": "H1VjVtxFcJ9Q",
        "colab_type": "code",
        "outputId": "b8e0e40e-dda9-4eac-c6ce-671086bd9333",
        "colab": {
          "base_uri": "https://localhost:8080/",
          "height": 136
        }
      },
      "source": [
        "#division\n",
        "print(\"Direct Division\")\n",
        "print (arr_y / arr_x, '\\n')\n",
        "\n",
        "print(\"Numpy Division\")\n",
        "print (np.divide(arr_y, arr_x))"
      ],
      "execution_count": 66,
      "outputs": [
        {
          "output_type": "stream",
          "text": [
            "Direct Division\n",
            "[[1.1        1.05       1.03333333]\n",
            " [1.025      1.02       1.01666667]] \n",
            "\n",
            "Numpy Division\n",
            "[[1.1        1.05       1.03333333]\n",
            " [1.025      1.02       1.01666667]]\n"
          ],
          "name": "stdout"
        }
      ]
    },
    {
      "cell_type": "code",
      "metadata": {
        "id": "ApgCutcscdy-",
        "colab_type": "code",
        "outputId": "42ae8847-2823-4794-b06d-5a9ff1b7ed9a",
        "colab": {
          "base_uri": "https://localhost:8080/",
          "height": 51
        }
      },
      "source": [
        "#square root\n",
        "\n",
        "print (np.sqrt(arr_x))"
      ],
      "execution_count": 67,
      "outputs": [
        {
          "output_type": "stream",
          "text": [
            "[[3.16227766 4.47213595 5.47722558]\n",
            " [6.32455532 7.07106781 7.74596669]]\n"
          ],
          "name": "stdout"
        }
      ]
    },
    {
      "cell_type": "code",
      "metadata": {
        "id": "KtDLiaFqcn5i",
        "colab_type": "code",
        "outputId": "aed36365-7d30-42dc-9c6e-4769e5771958",
        "colab": {
          "base_uri": "https://localhost:8080/",
          "height": 51
        }
      },
      "source": [
        "#exponent (e**x)\n",
        "\n",
        "print (np.exp(arr_x))"
      ],
      "execution_count": 68,
      "outputs": [
        {
          "output_type": "stream",
          "text": [
            "[[2.20264658e+04 4.85165195e+08 1.06864746e+13]\n",
            " [2.35385267e+17 5.18470553e+21 1.14200739e+26]]\n"
          ],
          "name": "stdout"
        }
      ]
    },
    {
      "cell_type": "code",
      "metadata": {
        "id": "DLNRxWIjc_Qk",
        "colab_type": "code",
        "outputId": "4ef89183-513c-4c03-eeb9-ffe28d48699e",
        "colab": {
          "base_uri": "https://localhost:8080/",
          "height": 51
        }
      },
      "source": [
        "#power\n",
        "\n",
        "print (np.power(arr_x, 3))"
      ],
      "execution_count": 69,
      "outputs": [
        {
          "output_type": "stream",
          "text": [
            "[[  1000   8000  27000]\n",
            " [ 64000 125000 216000]]\n"
          ],
          "name": "stdout"
        }
      ]
    },
    {
      "cell_type": "markdown",
      "metadata": {
        "id": "zEsN3UWje-Xl",
        "colab_type": "text"
      },
      "source": [
        "**Statistical methods**\n",
        "\n",
        "More documentation at https://docs.scipy.org/doc/numpy-1.13.0/reference/routines.statistics.html\n"
      ]
    },
    {
      "cell_type": "code",
      "metadata": {
        "id": "CKsAHgxieO_o",
        "colab_type": "code",
        "outputId": "b1c6952a-9952-434b-f544-5e5739c1c5a2",
        "colab": {
          "base_uri": "https://localhost:8080/",
          "height": 85
        }
      },
      "source": [
        "#create random 4x6 matrix\n",
        "arr = np.random.randn(4,6)\n",
        "print (arr)\n"
      ],
      "execution_count": 70,
      "outputs": [
        {
          "output_type": "stream",
          "text": [
            "[[-0.12250191 -0.07274038 -0.45661756  1.16348655 -0.92843899  0.55403114]\n",
            " [-1.02614907 -0.41674103 -0.81872484 -0.51010047  1.40050744  0.37756296]\n",
            " [-1.54028813 -0.87114003 -0.26644401  0.26713764  1.04063873 -0.39712954]\n",
            " [-0.55241254 -0.12376159  1.86864163 -0.6959475   1.40115684 -1.5899005 ]]\n"
          ],
          "name": "stdout"
        }
      ]
    },
    {
      "cell_type": "code",
      "metadata": {
        "id": "KuF-6iGhhO4d",
        "colab_type": "code",
        "outputId": "60e23d98-af8c-4663-8db2-e8c995d963ea",
        "colab": {
          "base_uri": "https://localhost:8080/",
          "height": 34
        }
      },
      "source": [
        "#compute the mean for all elements\n",
        "print (arr.mean())"
      ],
      "execution_count": 71,
      "outputs": [
        {
          "output_type": "stream",
          "text": [
            "-0.09649479900687484\n"
          ],
          "name": "stdout"
        }
      ]
    },
    {
      "cell_type": "code",
      "metadata": {
        "id": "VNRvCRyyhguY",
        "colab_type": "code",
        "outputId": "6bfe9879-6ad5-4d98-9311-096eb7e56a00",
        "colab": {
          "base_uri": "https://localhost:8080/",
          "height": 34
        }
      },
      "source": [
        "#compute the mean by row\n",
        "print (arr.mean(axis = 1))"
      ],
      "execution_count": 72,
      "outputs": [
        {
          "output_type": "stream",
          "text": [
            "[ 0.02286981 -0.1656075  -0.29453756  0.05129606]\n"
          ],
          "name": "stdout"
        }
      ]
    },
    {
      "cell_type": "code",
      "metadata": {
        "id": "pVU3-Uolh8Ky",
        "colab_type": "code",
        "outputId": "10f2a3c0-f81e-4257-8ddb-e61962e19e8b",
        "colab": {
          "base_uri": "https://localhost:8080/",
          "height": 34
        }
      },
      "source": [
        "#compute mean by column\n",
        "print (arr.mean(axis = 0))"
      ],
      "execution_count": 73,
      "outputs": [
        {
          "output_type": "stream",
          "text": [
            "[-0.81033791 -0.37109576  0.0817138   0.05614406  0.728466   -0.26385899]\n"
          ],
          "name": "stdout"
        }
      ]
    },
    {
      "cell_type": "code",
      "metadata": {
        "id": "TGJ6d6M4iKIC",
        "colab_type": "code",
        "outputId": "89ab54bb-9ab6-4f8e-ff6a-722339b42845",
        "colab": {
          "base_uri": "https://localhost:8080/",
          "height": 34
        }
      },
      "source": [
        "#compute the median for all elements, by row or column can be done the same way as for mean\n",
        "print (np.median(arr))"
      ],
      "execution_count": 74,
      "outputs": [
        {
          "output_type": "stream",
          "text": [
            "-0.331786774069337\n"
          ],
          "name": "stdout"
        }
      ]
    },
    {
      "cell_type": "code",
      "metadata": {
        "id": "D4k8Pc-jiZAs",
        "colab_type": "code",
        "outputId": "5b1749ad-db5a-4f17-8f50-52896b8805a4",
        "colab": {
          "base_uri": "https://localhost:8080/",
          "height": 34
        }
      },
      "source": [
        "#sum of all the elements, by row or column can be done the same way as for mean\n",
        "print (np.sum(arr))"
      ],
      "execution_count": 75,
      "outputs": [
        {
          "output_type": "stream",
          "text": [
            "-2.315875176164996\n"
          ],
          "name": "stdout"
        }
      ]
    },
    {
      "cell_type": "markdown",
      "metadata": {
        "id": "BKKt5ak8lG6K",
        "colab_type": "text"
      },
      "source": [
        "**Read, or Write to disc**"
      ]
    },
    {
      "cell_type": "code",
      "metadata": {
        "id": "agddLgxBi7sD",
        "colab_type": "code",
        "colab": {}
      },
      "source": [
        "np.savetxt('array.txt', X = arr, delimiter = ',')"
      ],
      "execution_count": 0,
      "outputs": []
    },
    {
      "cell_type": "code",
      "metadata": {
        "id": "dOdDNtSjlhwz",
        "colab_type": "code",
        "outputId": "9c93e09c-cc40-4717-d2af-37a89880a929",
        "colab": {
          "base_uri": "https://localhost:8080/",
          "height": 153
        }
      },
      "source": [
        "np.loadtxt('array.txt', delimiter = ',')"
      ],
      "execution_count": 77,
      "outputs": [
        {
          "output_type": "execute_result",
          "data": {
            "text/plain": [
              "array([[-0.12250191, -0.07274038, -0.45661756,  1.16348655, -0.92843899,\n",
              "         0.55403114],\n",
              "       [-1.02614907, -0.41674103, -0.81872484, -0.51010047,  1.40050744,\n",
              "         0.37756296],\n",
              "       [-1.54028813, -0.87114003, -0.26644401,  0.26713764,  1.04063873,\n",
              "        -0.39712954],\n",
              "       [-0.55241254, -0.12376159,  1.86864163, -0.6959475 ,  1.40115684,\n",
              "        -1.5899005 ]])"
            ]
          },
          "metadata": {
            "tags": []
          },
          "execution_count": 77
        }
      ]
    },
    {
      "cell_type": "code",
      "metadata": {
        "id": "nBuW1WD8l0aB",
        "colab_type": "code",
        "colab": {}
      },
      "source": [
        ""
      ],
      "execution_count": 0,
      "outputs": []
    }
  ]
}